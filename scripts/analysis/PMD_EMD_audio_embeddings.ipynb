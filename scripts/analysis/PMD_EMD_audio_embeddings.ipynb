{
 "cells": [
  {
   "cell_type": "code",
   "execution_count": 1,
   "metadata": {},
   "outputs": [],
   "source": [
    "import pandas as pd\n",
    "import numpy as np\n",
    "import matplotlib.pyplot as plt\n",
    "import os\n",
    "import umap\n",
    "from scipy.stats import ttest_ind, ks_2samp, mannwhitneyu\n",
    "from cliffs_delta import cliffs_delta\n",
    "\n",
    "import warnings\n",
    "warnings.filterwarnings('ignore')"
   ]
  },
  {
   "cell_type": "code",
   "execution_count": null,
   "metadata": {},
   "outputs": [],
   "source": [
    "# Paths to the folders and playlist CSVs\n",
    "folder_path_EMD = \"\" # Path to the folder containing the audio embeddings for the EMD dataset\n",
    "folder_path_PMD = \"\" # Path to the folder containing the audio embeddings for the PMD dataset\n",
    "playlist_path_EMD = \"\" # Path to the playlist CSV for the EMD dataset\n",
    "playlist_path_PMD = \"\" # Path to the playlist CSV for the PMD dataset\n",
    "\n",
    "# Function to process a folder and return a DataFrame\n",
    "def process_audio_embeddings(folder_path, playlist_path):\n",
    "    # Load playlist CSV\n",
    "    playlist_df = pd.read_csv(playlist_path)\n",
    "    \n",
    "    # Extract unique Track IDs from the playlist\n",
    "    track_id_counts = playlist_df['Track ID'].value_counts()\n",
    "\n",
    "    # List to store data\n",
    "    data = []\n",
    "\n",
    "    # Loop through all files in the folder\n",
    "    for file_name in os.listdir(folder_path):\n",
    "        if file_name.endswith('.npz'):\n",
    "            # Extract Track ID (first 22 characters of file name)\n",
    "            track_id = file_name[:22]\n",
    "            \n",
    "            # Load the .npz file\n",
    "            file_path = os.path.join(folder_path, file_name)\n",
    "            with np.load(file_path) as npz_file:\n",
    "                # Assuming embeddings are stored in a key named 'embeddings' in the .npz file\n",
    "                embeddings = npz_file['embeddings']\n",
    "            \n",
    "            # Get the duplication count for the current Track ID\n",
    "            duplication_count = track_id_counts.get(track_id, 0)\n",
    "            \n",
    "            # Append data (duplicate as needed)\n",
    "            for _ in range(duplication_count):\n",
    "                data.append([track_id] + embeddings.flatten().tolist())\n",
    "\n",
    "    # Create DataFrame\n",
    "    column_names = ['Track ID'] + [f'{i}' for i in range(len(data[0]) - 1)]\n",
    "    return pd.DataFrame(data, columns=column_names)\n",
    "\n",
    "# Process both folders and create DataFrames\n",
    "embeddings_df_EMD = process_audio_embeddings(folder_path_EMD, playlist_path_EMD)\n",
    "embeddings_df_PMD = process_audio_embeddings(folder_path_PMD, playlist_path_PMD)"
   ]
  },
  {
   "cell_type": "code",
   "execution_count": 4,
   "metadata": {},
   "outputs": [],
   "source": [
    "# Drop the Track ID column and prepare the data\n",
    "EMD_embeddings = embeddings_df_EMD.drop(columns=['Track ID']).values\n",
    "PMD_embeddings = embeddings_df_PMD.drop(columns=['Track ID']).values\n",
    "\n",
    "# Combine the datasets for UMAP\n",
    "combined_embeddings = np.vstack((EMD_embeddings, PMD_embeddings))\n",
    "\n",
    "# Apply UMAP to reduce dimensions to 2\n",
    "umap_reducer = umap.UMAP(n_components=2, random_state=42)\n",
    "reduced_embeddings = umap_reducer.fit_transform(combined_embeddings)\n",
    "\n",
    "# Split the reduced embeddings back into EMD and PMD\n",
    "n_EMD = EMD_embeddings.shape[0]\n",
    "reduced_EMD = reduced_embeddings[:n_EMD]\n",
    "reduced_PMD = reduced_embeddings[n_EMD:]"
   ]
  },
  {
   "cell_type": "code",
   "execution_count": 8,
   "metadata": {},
   "outputs": [
    {
     "name": "stdout",
     "output_type": "stream",
     "text": [
      "Mann-Whitney U-Test for UMAP Component 1: U-statistic = 8921356.0, p-value = 1.9931276763203524e-05\n",
      "Mann-Whitney U-Test for UMAP Component 2: U-statistic = 6840232.0, p-value = 1.450394096417345e-36\n",
      "Kolmogorov-Smirnov Test for UMAP Component 1: KS-statistic = 0.11538926049795616, p-value = 2.0346613364331402e-18\n",
      "Kolmogorov-Smirnov Test for UMAP Component 2: KS-statistic = 0.13363991081382387, p-value = 1.42097727059554e-24\n",
      "Cliff's Delta for UMAP Component 1: Delta = 0.0626, Effect Size = negligible\n",
      "Cliff's Delta for UMAP Component 2: Delta = -0.1853, Effect Size = small\n"
     ]
    }
   ],
   "source": [
    "# Mann-Whitney U Test for UMAP components\n",
    "u_stat_0, p_value_u_0 = mannwhitneyu(reduced_EMD[:, 0], reduced_PMD[:, 0], alternative='two-sided')\n",
    "u_stat_1, p_value_u_1 = mannwhitneyu(reduced_EMD[:, 1], reduced_PMD[:, 1], alternative='two-sided')\n",
    "\n",
    "# Kolmogorov-Smirnov Test for UMAP components\n",
    "ks_stat_0, p_value_ks_0 = ks_2samp(reduced_EMD[:, 0], reduced_PMD[:, 0])\n",
    "ks_stat_1, p_value_ks_1 = ks_2samp(reduced_EMD[:, 1], reduced_PMD[:, 1])\n",
    "\n",
    "# Cliff's Delta for UMAP components\n",
    "delta_0, magnitude_0 = cliffs_delta(reduced_EMD[:, 0], reduced_PMD[:, 0])\n",
    "delta_1, magnitude_1 = cliffs_delta(reduced_EMD[:, 1], reduced_PMD[:, 1])\n",
    "\n",
    "# Print results\n",
    "print(f\"Mann-Whitney U-Test for UMAP Component 1: U-statistic = {u_stat_0}, p-value = {p_value_u_0}\")\n",
    "print(f\"Mann-Whitney U-Test for UMAP Component 2: U-statistic = {u_stat_1}, p-value = {p_value_u_1}\")\n",
    "\n",
    "print(f\"Kolmogorov-Smirnov Test for UMAP Component 1: KS-statistic = {ks_stat_0}, p-value = {p_value_ks_0}\")\n",
    "print(f\"Kolmogorov-Smirnov Test for UMAP Component 2: KS-statistic = {ks_stat_1}, p-value = {p_value_ks_1}\")\n",
    "\n",
    "print(f\"Cliff's Delta for UMAP Component 1: Delta = {delta_0:.4f}, Effect Size = {magnitude_0}\")\n",
    "print(f\"Cliff's Delta for UMAP Component 2: Delta = {delta_1:.4f}, Effect Size = {magnitude_1}\")"
   ]
  }
 ],
 "metadata": {
  "kernelspec": {
   "display_name": "MAMxAI",
   "language": "python",
   "name": "python3"
  },
  "language_info": {
   "codemirror_mode": {
    "name": "ipython",
    "version": 3
   },
   "file_extension": ".py",
   "mimetype": "text/x-python",
   "name": "python",
   "nbconvert_exporter": "python",
   "pygments_lexer": "ipython3",
   "version": "3.10.13"
  }
 },
 "nbformat": 4,
 "nbformat_minor": 2
}
